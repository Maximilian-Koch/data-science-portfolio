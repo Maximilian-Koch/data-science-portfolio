{
 "cells": [
  {
   "cell_type": "markdown",
   "metadata": {},
   "source": [
    "## APIs and Webscraping - Data Science Portfolio - Maximilian Koch"
   ]
  },
  {
   "cell_type": "markdown",
   "metadata": {},
   "source": [
    "**Dataset**: Spotify songs, top 500 albums<br>\n",
    "**Techniques applied**: API, webscraping, significance testing<br>\n",
    "\n",
    "In this notebook, I will:\n",
    "* Demonstrate the usage of the Spotify API\n",
    "* Use BeautifulSoup to parse the top 500 albums of all time\n",
    "* Get information about these albums using the Spotify API\n",
    "* Analyse the average track duration over recent decades\n"
   ]
  },
  {
   "cell_type": "markdown",
   "metadata": {},
   "source": [
    "### API access"
   ]
  },
  {
   "cell_type": "code",
   "execution_count": 3,
   "metadata": {},
   "outputs": [
    {
     "name": "stdout",
     "output_type": "stream",
     "text": [
      "Received access Token: ...\n"
     ]
    }
   ],
   "source": [
    "#Get Spotify one hour access token\n",
    "import requests\n",
    "import base64\n",
    "\n",
    "client_id = 'YOUR_CLIENT_ID'\n",
    "client_secret = 'YOUR_CLIENT_SECRET'\n",
    "#Spotify requires base64 encoding\n",
    "auth_str = f\"{client_id}:{client_secret}\"\n",
    "auth_bytes = auth_str.encode('utf-8')\n",
    "auth_base64 = base64.b64encode(auth_bytes).decode('utf-8')\n",
    "\n",
    "url = \"https://accounts.spotify.com/api/token\"\n",
    "headers = {\"Authorization\": f\"Basic {auth_base64}\",\n",
    "    \"Content-Type\": \"application/x-www-form-urlencoded\"}\n",
    "data = {\"grant_type\": \"client_credentials\"}\n",
    "response = requests.post(url, headers=headers, data=data)\n",
    "response_data = response.json()\n",
    "access_token = response_data['access_token']\n",
    "\n",
    "print(\"Received acccess Token:\", access_token)\n",
    "\n",
    "search_url = \"https://api.spotify.com/v1/search\"\n",
    "search_headers = {'Authorization': f'Bearer {access_token}'}"
   ]
  },
  {
   "cell_type": "markdown",
   "metadata": {},
   "source": [
    "### Most popular tracks from an artist"
   ]
  },
  {
   "cell_type": "markdown",
   "metadata": {},
   "source": [
    "For demonstration purposes, this is how to get the most popular tracks from an artist!\n",
    "1. The artist name is searched\n",
    "2. The ID of the first result is extracted\n",
    "3. That ID is used to find the top tracks"
   ]
  },
  {
   "cell_type": "code",
   "execution_count": 4,
   "metadata": {},
   "outputs": [
    {
     "name": "stdout",
     "output_type": "stream",
     "text": [
      "The probability that Rick Astley is Never Gonna Give You Up: 81%!\n",
      "\n",
      "The top five Michael Jackson songs are:\n",
      "Billie Jean has a popularity of 84\n",
      "Beat It has a popularity of 81\n",
      "Smooth Criminal - 2012 Remaster has a popularity of 77\n",
      "Rock with You - Single Version has a popularity of 80\n",
      "Chicago has a popularity of 80\n"
     ]
    }
   ],
   "source": [
    "def most_popular_tracks(artist_name, n=5):\n",
    "    global search_url, search_headers\n",
    "    search_params = {'q': artist_name,\n",
    "        'type': 'artist',\n",
    "        'limit': 1} #only use first search result\n",
    "    search_response = requests.get(search_url, headers=search_headers, params=search_params)\n",
    "    #get artist ID\n",
    "    if search_response.status_code == 200:\n",
    "        search_results = search_response.json()\n",
    "        artist_id = search_results['artists']['items'][0]['id']\n",
    "    else:\n",
    "        print(f\"Error: {search_response.status_code}, {search_response.text}\")\n",
    "\n",
    "    #get most popular track\n",
    "    top_tracks_url = f\"https://api.spotify.com/v1/artists/{artist_id}/top-tracks\"\n",
    "    top_tracks_response = requests.get(top_tracks_url, headers=search_headers)\n",
    "\n",
    "    if top_tracks_response.status_code == 200:\n",
    "        #already sorted by most popular, thus first n tracks\n",
    "        top_tracks = top_tracks_response.json()['tracks'][:n]\n",
    "        track_list = []\n",
    "        for track in top_tracks:\n",
    "            track_list.append((track['name'],track['popularity']))\n",
    "        return track_list\n",
    "    else:\n",
    "        print(f\"Error: {top_tracks_response.status_code}, {top_tracks_response.text}\")\n",
    "\n",
    "track_name, popularity = most_popular_tracks('Rick Astley',1)[0]\n",
    "print(f\"The probability that Rick Astley is {track_name}: {popularity}%!\")\n",
    "\n",
    "#Get top 5 Michael Jackson songs, hehe\n",
    "print(\"\\nThe top five Michael Jackson songs are:\")\n",
    "for track in most_popular_tracks('Michael Jackson',5):\n",
    "    print(f\"{track[0]} has a popularity of {track[1]}\")\n"
   ]
  },
  {
   "cell_type": "markdown",
   "metadata": {},
   "source": [
    "### Scraping albums"
   ]
  },
  {
   "cell_type": "markdown",
   "metadata": {},
   "source": [
    "Using Beautiful Soup to scrape the top 500 greatest albums of all time (according to Rolling Stone Magazine).\n",
    "Clearly, this data would also be available somewhere in csv format, but it is suitable for demonstration:"
   ]
  },
  {
   "cell_type": "code",
   "execution_count": 3,
   "metadata": {},
   "outputs": [],
   "source": [
    "from bs4 import BeautifulSoup"
   ]
  },
  {
   "cell_type": "code",
   "execution_count": 4,
   "metadata": {},
   "outputs": [
    {
     "name": "stdout",
     "output_type": "stream",
     "text": [
      "The top ten albums of all time are:\n",
      "1: What’s Going On by Marvin Gaye, 1971\n",
      "2: Pet Sounds by The Beach Boys, 1966\n",
      "3: Blue by Joni Mitchell, 1971\n",
      "4: Songs in the Key of Life by Stevie Wonder, 1976\n",
      "5: Abbey Road by The Beatles, 1969\n",
      "6: Nevermind by Nirvana, 1991\n",
      "7: Rumours by Fleetwood Mac, 1977\n",
      "8: Purple Rain by Prince and the Revolution, 1984\n",
      "9: Blood on the Tracks by Bob Dylan, 1975\n",
      "10: The Miseducation of Lauryn Hill by Lauryn Hill, 1998\n"
     ]
    }
   ],
   "source": [
    "text = requests.get('https://rocknyc.live/the-gigantic-list-published-by-rolling-stone-the-500-greatest-albums-of-all-time.html').text\n",
    "soup = BeautifulSoup(text, 'html.parser')\n",
    "\n",
    "albums_data = []\n",
    "\n",
    "#the entire list is within several html paragraphs, each entry is separated with the pipe symbol\n",
    "for paragraph in soup.find_all('p'):\n",
    "    lines = paragraph.text.split('\\n')\n",
    "    for line in lines:\n",
    "        parts = line.split('|')\n",
    "        if len(parts) == 4:\n",
    "            rank = int(parts[0].strip())\n",
    "            artist = parts[1].strip()\n",
    "            album = parts[2].strip()\n",
    "            year = int(parts[3].strip()[:4])\n",
    "            albums_data.append((rank,artist,album,year))\n",
    "print(\"The top ten albums of all time are:\")\n",
    "for i in albums_data[:10]:\n",
    "    rank,artist,album,year = i\n",
    "    print(f\"{rank}: {album} by {artist}, {year}\")\n"
   ]
  },
  {
   "cell_type": "markdown",
   "metadata": {},
   "source": [
    "### Album info"
   ]
  },
  {
   "cell_type": "markdown",
   "metadata": {},
   "source": [
    "Combining the Spotify API with the top 500 albums list, to get more information about these albums!"
   ]
  },
  {
   "cell_type": "code",
   "execution_count": 5,
   "metadata": {},
   "outputs": [
    {
     "name": "stdout",
     "output_type": "stream",
     "text": [
      "The top 79 album in the world is Blonde by Frank Ocean from 2016.\n",
      "Blonde has 17 tracks with a total duration of 60.29mins and average 3.55mins per track!\n"
     ]
    }
   ],
   "source": [
    "def get_album_info(search_query):\n",
    "    global search_url, search_headers\n",
    "    #search for album to get album ID\n",
    "    params = {'q': search_query,\n",
    "        'type': 'album',\n",
    "        'limit': 1 } #only use first search result\n",
    "    search_response = requests.get(search_url, headers=search_headers, params=params)\n",
    "    search_data = search_response.json()\n",
    "\n",
    "    if not search_data['albums']['items']:\n",
    "        return None,\"\"\n",
    "\n",
    "    album = search_data['albums']['items'][0]\n",
    "    album_id = album['id']\n",
    "    album_name = album['name']\n",
    "\n",
    "    #get details using album ID\n",
    "    album_url = f'https://api.spotify.com/v1/albums/{album_id}'\n",
    "    album_response = requests.get(album_url, headers=search_headers)\n",
    "    album_data = album_response.json()\n",
    "    #get duration details\n",
    "    total_tracks = album_data['total_tracks']\n",
    "    total_duration_ms = sum(track['duration_ms'] for track in album_data['tracks']['items'])\n",
    "    total_duration_minutes = total_duration_ms / 1000 / 60\n",
    "    average_duration_minutes = total_duration_minutes / total_tracks if total_tracks > 0 else 0\n",
    "    \n",
    "    return {\n",
    "        'album_name': album_name,\n",
    "        'total_tracks': total_tracks,\n",
    "        'total_duration': round(total_duration_minutes,2),\n",
    "        'average_duration': round(average_duration_minutes,2)\n",
    "    }, None\n",
    "\n",
    "#Looking at the 79th best album in the world:\n",
    "n=79\n",
    "rank,artist,album,year=albums_data[n-1]\n",
    "print(f'The top {n} album in the world is {album} by {artist} from {year}.')\n",
    "album_info, error= get_album_info(artist+album)\n",
    "print(f\"{album_info['album_name']} has {album_info['total_tracks']} tracks with a total duration of {album_info['total_duration']}mins and average {album_info['average_duration']}mins per track!\")\n"
   ]
  },
  {
   "cell_type": "markdown",
   "metadata": {},
   "source": [
    "Now, getting the info for all top 500 albums using the spotify api"
   ]
  },
  {
   "cell_type": "code",
   "execution_count": 6,
   "metadata": {},
   "outputs": [
    {
     "name": "stderr",
     "output_type": "stream",
     "text": [
      "500it [03:30,  2.38it/s]\n"
     ]
    }
   ],
   "source": [
    "import pandas as pd\n",
    "from tqdm import tqdm\n",
    "\n",
    "df = pd.DataFrame(albums_data,columns=['Rank', 'Artist', 'Album', 'Year'])\n",
    "\n",
    "df['Number of Tracks'] = None\n",
    "df['Total Duration'] = None\n",
    "df['Average Track Duration'] = None\n",
    "\n",
    "#add album data to dataframe\n",
    "#usually took me about 2.5mins to run. might take longer depending on time/WiFi\n",
    "for index, row in tqdm(df.iterrows()):\n",
    "    \n",
    "    search_query = f\"{row['Artist']} {row['Album']}\"\n",
    "    \n",
    "    # Get album information using the combined artist + album name\n",
    "    album_info, error = get_album_info(search_query)\n",
    "    \n",
    "    if album_info:\n",
    "        # Update the DataFrame with the results\n",
    "        df.at[index, 'Number of Tracks'] = album_info['total_tracks']\n",
    "        df.at[index, 'Total Duration'] = album_info['total_duration']\n",
    "        df.at[index, 'Average Track Duration'] = album_info['average_duration']\n",
    "    else:\n",
    "        #In case of error 429 (overload), include a time.sleep(0.5) after each iteration, wait some hours or create a new key set\n",
    "        print(f\"Error for '{search_query}': {error}\")"
   ]
  },
  {
   "cell_type": "code",
   "execution_count": 7,
   "metadata": {},
   "outputs": [
    {
     "data": {
      "text/html": [
       "<div>\n",
       "<style scoped>\n",
       "    .dataframe tbody tr th:only-of-type {\n",
       "        vertical-align: middle;\n",
       "    }\n",
       "\n",
       "    .dataframe tbody tr th {\n",
       "        vertical-align: top;\n",
       "    }\n",
       "\n",
       "    .dataframe thead th {\n",
       "        text-align: right;\n",
       "    }\n",
       "</style>\n",
       "<table border=\"1\" class=\"dataframe\">\n",
       "  <thead>\n",
       "    <tr style=\"text-align: right;\">\n",
       "      <th></th>\n",
       "      <th>Rank</th>\n",
       "      <th>Artist</th>\n",
       "      <th>Album</th>\n",
       "      <th>Year</th>\n",
       "      <th>Number of Tracks</th>\n",
       "      <th>Total Duration</th>\n",
       "      <th>Average Track Duration</th>\n",
       "    </tr>\n",
       "  </thead>\n",
       "  <tbody>\n",
       "    <tr>\n",
       "      <th>0</th>\n",
       "      <td>1</td>\n",
       "      <td>Marvin Gaye</td>\n",
       "      <td>What’s Going On</td>\n",
       "      <td>1971</td>\n",
       "      <td>9</td>\n",
       "      <td>35.54</td>\n",
       "      <td>3.95</td>\n",
       "    </tr>\n",
       "    <tr>\n",
       "      <th>1</th>\n",
       "      <td>2</td>\n",
       "      <td>The Beach Boys</td>\n",
       "      <td>Pet Sounds</td>\n",
       "      <td>1966</td>\n",
       "      <td>13</td>\n",
       "      <td>37.36</td>\n",
       "      <td>2.87</td>\n",
       "    </tr>\n",
       "    <tr>\n",
       "      <th>2</th>\n",
       "      <td>3</td>\n",
       "      <td>Joni Mitchell</td>\n",
       "      <td>Blue</td>\n",
       "      <td>1971</td>\n",
       "      <td>10</td>\n",
       "      <td>36.08</td>\n",
       "      <td>3.61</td>\n",
       "    </tr>\n",
       "    <tr>\n",
       "      <th>3</th>\n",
       "      <td>4</td>\n",
       "      <td>Stevie Wonder</td>\n",
       "      <td>Songs in the Key of Life</td>\n",
       "      <td>1976</td>\n",
       "      <td>21</td>\n",
       "      <td>105.03</td>\n",
       "      <td>5.0</td>\n",
       "    </tr>\n",
       "    <tr>\n",
       "      <th>4</th>\n",
       "      <td>5</td>\n",
       "      <td>The Beatles</td>\n",
       "      <td>Abbey Road</td>\n",
       "      <td>1969</td>\n",
       "      <td>17</td>\n",
       "      <td>47.5</td>\n",
       "      <td>2.79</td>\n",
       "    </tr>\n",
       "    <tr>\n",
       "      <th>...</th>\n",
       "      <td>...</td>\n",
       "      <td>...</td>\n",
       "      <td>...</td>\n",
       "      <td>...</td>\n",
       "      <td>...</td>\n",
       "      <td>...</td>\n",
       "      <td>...</td>\n",
       "    </tr>\n",
       "    <tr>\n",
       "      <th>495</th>\n",
       "      <td>496</td>\n",
       "      <td>Shakira</td>\n",
       "      <td>Dónde Están los Ladrones</td>\n",
       "      <td>1998</td>\n",
       "      <td>11</td>\n",
       "      <td>41.23</td>\n",
       "      <td>3.75</td>\n",
       "    </tr>\n",
       "    <tr>\n",
       "      <th>496</th>\n",
       "      <td>497</td>\n",
       "      <td>Various Artists</td>\n",
       "      <td>The Indestructible Beat of Soweto</td>\n",
       "      <td>1985</td>\n",
       "      <td>12</td>\n",
       "      <td>45.85</td>\n",
       "      <td>3.82</td>\n",
       "    </tr>\n",
       "    <tr>\n",
       "      <th>497</th>\n",
       "      <td>498</td>\n",
       "      <td>Suicide</td>\n",
       "      <td>Suicide</td>\n",
       "      <td>1977</td>\n",
       "      <td>9</td>\n",
       "      <td>18.57</td>\n",
       "      <td>2.06</td>\n",
       "    </tr>\n",
       "    <tr>\n",
       "      <th>498</th>\n",
       "      <td>499</td>\n",
       "      <td>Rufus &amp; Chaka Khan</td>\n",
       "      <td>Ask Rufus</td>\n",
       "      <td>1977</td>\n",
       "      <td>9</td>\n",
       "      <td>37.76</td>\n",
       "      <td>4.2</td>\n",
       "    </tr>\n",
       "    <tr>\n",
       "      <th>499</th>\n",
       "      <td>500</td>\n",
       "      <td>Arcade Fire</td>\n",
       "      <td>Funeral</td>\n",
       "      <td>2000</td>\n",
       "      <td>10</td>\n",
       "      <td>48.0</td>\n",
       "      <td>4.8</td>\n",
       "    </tr>\n",
       "  </tbody>\n",
       "</table>\n",
       "<p>500 rows × 7 columns</p>\n",
       "</div>"
      ],
      "text/plain": [
       "     Rank              Artist                              Album  Year  \\\n",
       "0       1         Marvin Gaye                    What’s Going On  1971   \n",
       "1       2      The Beach Boys                         Pet Sounds  1966   \n",
       "2       3       Joni Mitchell                               Blue  1971   \n",
       "3       4       Stevie Wonder           Songs in the Key of Life  1976   \n",
       "4       5         The Beatles                         Abbey Road  1969   \n",
       "..    ...                 ...                                ...   ...   \n",
       "495   496             Shakira           Dónde Están los Ladrones  1998   \n",
       "496   497     Various Artists  The Indestructible Beat of Soweto  1985   \n",
       "497   498             Suicide                            Suicide  1977   \n",
       "498   499  Rufus & Chaka Khan                          Ask Rufus  1977   \n",
       "499   500         Arcade Fire                            Funeral  2000   \n",
       "\n",
       "    Number of Tracks Total Duration Average Track Duration  \n",
       "0                  9          35.54                   3.95  \n",
       "1                 13          37.36                   2.87  \n",
       "2                 10          36.08                   3.61  \n",
       "3                 21         105.03                    5.0  \n",
       "4                 17           47.5                   2.79  \n",
       "..               ...            ...                    ...  \n",
       "495               11          41.23                   3.75  \n",
       "496               12          45.85                   3.82  \n",
       "497                9          18.57                   2.06  \n",
       "498                9          37.76                    4.2  \n",
       "499               10           48.0                    4.8  \n",
       "\n",
       "[500 rows x 7 columns]"
      ]
     },
     "execution_count": 7,
     "metadata": {},
     "output_type": "execute_result"
    }
   ],
   "source": [
    "df"
   ]
  },
  {
   "cell_type": "markdown",
   "metadata": {},
   "source": [
    "### Analysing track duration"
   ]
  },
  {
   "cell_type": "markdown",
   "metadata": {},
   "source": [
    "Since the data has been collected now, out of curiosity I wanted to check a widely-spread hypothesis that the duration of songs is decreasing in recent years. E.g., an article here: https://ucladatares.medium.com/spotify-trends-analysis-129c8a31cf04\n",
    "\n",
    "Is that also the case for the 'best' rated music?"
   ]
  },
  {
   "cell_type": "code",
   "execution_count": 8,
   "metadata": {},
   "outputs": [
    {
     "data": {
      "image/png": "[encoded data removed]",
      "text/plain": [
       "<Figure size 640x480 with 1 Axes>"
      ]
     },
     "metadata": {},
     "output_type": "display_data"
    },
    {
     "data": {
      "image/png": "[encoded data removed]",
      "text/plain": [
       "<Figure size 640x480 with 2 Axes>"
      ]
     },
     "metadata": {},
     "output_type": "display_data"
    }
   ],
   "source": [
    "import matplotlib.pyplot as plt\n",
    "import seaborn as sns\n",
    "import pandas as pd\n",
    "\n",
    "df['Decade'] = (df['Year'] // 10) * 10\n",
    "sns.boxplot(x='Decade', y='Average Track Duration', data=df)\n",
    "plt.title('Average Track Duration (minutes) Over Decades')\n",
    "plt.xlabel('Decade')\n",
    "plt.ylabel('Average Track Duration (minutes)')\n",
    "plt.show()\n",
    "\n",
    "corr = df[['Rank', 'Number of Tracks', 'Total Duration', 'Average Track Duration', 'Year']].corr('spearman')\n",
    "\n",
    "sns.heatmap(corr, annot=True, cmap='coolwarm', linewidths=0.5)\n",
    "plt.title('Album Structure, Year and Ranking correlations', fontsize=16)\n",
    "plt.show()\n"
   ]
  },
  {
   "cell_type": "markdown",
   "metadata": {},
   "source": [
    "From the first plot it is hard to tell the significance, thus I am applying a Mann-Whitney U test to measure:"
   ]
  },
  {
   "cell_type": "markdown",
   "metadata": {},
   "source": [
    "Is there a significant change in average track duration for songs before 2000 and after 2000?"
   ]
  },
  {
   "cell_type": "code",
   "execution_count": 9,
   "metadata": {},
   "outputs": [
    {
     "name": "stdout",
     "output_type": "stream",
     "text": [
      "2.0057315876683237 0.9065387777176849\n",
      "ShapiroResult(statistic=np.float64(0.8240009036296909), pvalue=np.float64(5.718389970356855e-21))\n",
      "ShapiroResult(statistic=np.float64(0.9727816954658484), pvalue=np.float64(0.06604138380990572))\n",
      "MannwhitneyuResult(statistic=np.float64(17677.0), pvalue=np.float64(0.5409936398010747))\n"
     ]
    }
   ],
   "source": [
    "from scipy import stats\n",
    "df_1 = df[df['Year']<2000]\n",
    "df_2 = df[df['Year']>=2000]\n",
    "duration_1 = df_1['Average Track Duration'].values.astype(float)\n",
    "duration_2 = df_2['Average Track Duration'].values.astype(float)\n",
    "\n",
    "#--> Variance not similar\n",
    "print(duration_1.var(),duration_2.var())\n",
    "\n",
    "#--> not normally distributed\n",
    "print(stats.shapiro(duration_1))\n",
    "print(stats.shapiro(duration_2))\n",
    "\n",
    "#--> time for Mann-Whitney U!\n",
    "print(stats.mannwhitneyu(duration_1,duration_2,alternative='greater'))"
   ]
  },
  {
   "cell_type": "markdown",
   "metadata": {},
   "source": [
    "Change in track duration does not seem to be significant for the top 500 Rolling stone albums!\n",
    "Although methodologically, album duration is not the most logical way to determine this due to plenty of outliers etc., but since I had collected the data anyway, I wanted to check."
   ]
  }
 ],
 "metadata": {
  "kernelspec": {
   "display_name": "Python 3",
   "language": "python",
   "name": "python3"
  },
  "language_info": {
   "codemirror_mode": {
    "name": "ipython",
    "version": 3
   },
   "file_extension": ".py",
   "mimetype": "text/x-python",
   "name": "python",
   "nbconvert_exporter": "python",
   "pygments_lexer": "ipython3",
   "version": "3.12.6"
  }
 },
 "nbformat": 4,
 "nbformat_minor": 2
}
