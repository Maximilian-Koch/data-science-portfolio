{
 "cells": [
  {
   "cell_type": "markdown",
   "metadata": {},
   "source": [
    "## Classification - Data Science Portfolio - Maximilian Koch"
   ]
  },
  {
   "cell_type": "markdown",
   "metadata": {},
   "source": [
    "**Dataset**: Astronomical objects<br>\n",
    "**Target variable**: Predicting the type of astronomical objects<br>\n",
    "**Features**: Light spectra, movement<br>\n",
    "**Techniques applied**: Multiple-class SVM implementation from scratch, voting ensemble from scratch<br>\n",
    "\n"
   ]
  },
  {
   "cell_type": "markdown",
   "metadata": {},
   "source": [
    "SVMs are ...\n",
    "\n",
    "In this notebook, I will:\n",
    "* Implement a binary class SVM from scratch\n",
    "* Implement a multiple class on-versus-rest SVM from scratch\n",
    "* Implement a voting ensemble from scratch"
   ]
  },
  {
   "cell_type": "code",
   "execution_count": 2,
   "metadata": {},
   "outputs": [],
   "source": [
    "import numpy as np\n",
    "import pandas as pd\n",
    "import scipy.stats as stats\n",
    "import matplotlib.pyplot as plt\n",
    "import seaborn as sns"
   ]
  },
  {
   "cell_type": "markdown",
   "metadata": {},
   "source": [
    "The dataset is for classification of astronomical objects into three categories: galaxies, stars and quasars. There is a class imbalance (galaxies are about 50%), thus f1 macro is used as an evaluation metric.\n",
    "Most variables contain information about the light spectra of the objects."
   ]
  },
  {
   "cell_type": "code",
   "execution_count": 4,
   "metadata": {},
   "outputs": [],
   "source": [
    "#storing this for later\n",
    "orig_class = df['class'].copy()\n",
    "df = df.drop(['class','obj_ID','run_ID','rerun_ID','cam_col','field_ID','spec_obj_ID'],axis=1)"
   ]
  },
  {
   "cell_type": "code",
   "execution_count": 5,
   "metadata": {},
   "outputs": [],
   "source": [
    "from sklearn.preprocessing import StandardScaler\n",
    "#data should be scaled for SVMs. class must not be scaled.\n",
    "scaler = StandardScaler()\n",
    "scaled_data = scaler.fit_transform(df)\n",
    "scaled_df = pd.DataFrame(scaled_data, columns=df.columns)\n",
    "scaled_df['class'] = orig_class\n",
    "scaled_df = scaled_df[:10000] #less training time\n",
    "\n",
    "X = scaled_df.drop('class',axis=1)\n",
    "y = scaled_df['class']"
   ]
  },
  {
   "cell_type": "markdown",
   "metadata": {},
   "source": [
    "### Two-class SVM"
   ]
  },
  {
   "cell_type": "markdown",
   "metadata": {},
   "source": [
    "Since the dataset has three classes, I created a classification problem with two labels: star or not star."
   ]
  },
  {
   "cell_type": "code",
   "execution_count": 6,
   "metadata": {},
   "outputs": [
    {
     "name": "stderr",
     "output_type": "stream",
     "text": [
      "C:\\Users\\mk090\\AppData\\Local\\Temp\\ipykernel_12028\\2588840994.py:30: FutureWarning: Downcasting behavior in `replace` is deprecated and will be removed in a future version. To retain the old behavior, explicitly call `result.infer_objects(copy=False)`. To opt-in to the future behavior, set `pd.set_option('future.no_silent_downcasting', True)`\n",
      "  binary_df['class'] = binary_df['class'].replace({'GALAXY':-1,'STAR':1,'QSO':-1})\n"
     ]
    },
    {
     "name": "stdout",
     "output_type": "stream",
     "text": [
      "train data f1: 0.9796163875576239\n",
      "test data f1: 0.9739223807332413\n"
     ]
    }
   ],
   "source": [
    "from sklearn.metrics import f1_score\n",
    "\n",
    "def train_base_svm(X, y, learning_rate=0.001, n_iterations=1000):\n",
    "    #get np arrays\n",
    "    X = X.values\n",
    "    #y is already a numpy array when using OVR as below\n",
    "    n_samples, n_features = X.shape\n",
    "    #one weight per feature\n",
    "    w = np.zeros(n_features)\n",
    "    #bias\n",
    "    b = 0\n",
    "    for i in range(n_iterations):\n",
    "        #for each sample\n",
    "        for idx, x_i in enumerate(X):\n",
    "            y_i = y[idx] #label for sample\n",
    "            if y_i * (np.dot(x_i, w) + b) < 1:\n",
    "                #gradient descent\n",
    "                w = w + learning_rate * (y_i * x_i)\n",
    "                b = b + learning_rate * y_i\n",
    "    return w, b\n",
    "\n",
    "def predict_base_svm(X, w, b):\n",
    "    X = X.values\n",
    "    predictions = np.dot(X, weights) + bias\n",
    "    return np.sign(predictions).astype(np.int8)\n",
    "\n",
    "#turning the current three classes into two classes\n",
    "binary_df = scaled_df.copy()\n",
    "#star or not star. -1/1 encoding works easiest with SVM. sgn can just be applied\n",
    "binary_df['class'] = binary_df['class'].replace({'GALAXY':-1,'STAR':1,'QSO':-1})\n",
    "binary_train, binary_test = binary_df[:8000], binary_df[8000:] #80/20 split\n",
    "\n",
    "#train the SVM:\n",
    "weights, bias = train_base_svm(binary_train.drop('class',axis=1),binary_train['class'].values)\n",
    "#Training set prediction:\n",
    "predictions_train = predict_base_svm(binary_train.drop('class',axis=1),weights,bias)\n",
    "#Test set prediction:\n",
    "predictions_test = predict_base_svm(binary_test.drop('class',axis=1),weights,bias)\n",
    "\n",
    "print('train data f1:',f1_score(binary_train['class'].values,predictions_train,average='macro'))\n",
    "print('test data f1:',f1_score(binary_test['class'].values,predictions_test,average='macro'))"
   ]
  },
  {
   "cell_type": "markdown",
   "metadata": {},
   "source": [
    "The two-class linear SVM already performs extremely well. The f1 score is very high and performs almost equally well on the train and test data.\n",
    "Thus there are no indications of overfitting."
   ]
  },
  {
   "cell_type": "markdown",
   "metadata": {},
   "source": [
    "### Multi-class OVR SVM"
   ]
  },
  {
   "cell_type": "markdown",
   "metadata": {},
   "source": [
    "To use the original 3 class dataset, I implemented a multi-class SVM using a One vs Rest approach, because it is the easiest to implement and intuitive."
   ]
  },
  {
   "cell_type": "code",
   "execution_count": 7,
   "metadata": {},
   "outputs": [
    {
     "name": "stdout",
     "output_type": "stream",
     "text": [
      "training GALAXY vs. others...\n",
      "training QSO vs. others...\n",
      "training STAR vs. others...\n",
      "Train f1: 0.9016010848224502\n",
      "Test f1: 0.8866385088489878\n"
     ]
    }
   ],
   "source": [
    "def train_svm(X, y, learning_rate=0.01, n_iterations=1000, logging=True):\n",
    "    unique_classes = y.unique()\n",
    "    classifiers = {}\n",
    "\n",
    "    for cls in unique_classes:\n",
    "        if logging:\n",
    "            print('training',cls,'vs. others...')\n",
    "        # Create binary labels: 1 for the current class, -1 for all others\n",
    "        binary_y = np.where(y == cls, 1, -1)\n",
    "        weights, bias = train_base_svm(X, binary_y, learning_rate, n_iterations)\n",
    "        classifiers[cls] = (weights, bias)\n",
    "\n",
    "    return classifiers\n",
    "\n",
    "def predict_svm(X, ovr_classifiers):\n",
    "    X_values = X.values\n",
    "    num_samples = X_values.shape[0]\n",
    "    num_classifiers = len(ovr_classifiers)\n",
    "    predictions = np.zeros((num_samples, num_classifiers))\n",
    "    class_labels = list(ovr_classifiers.keys())\n",
    "\n",
    "    for i, cls in enumerate(class_labels):\n",
    "        weights, bias = ovr_classifiers[cls]\n",
    "        # Get the raw scores from the decision function for each OVR classifier\n",
    "        predictions[:, i] = np.dot(X_values, weights) + bias\n",
    "\n",
    "    #for direct evaluation. translating back into classes\n",
    "    predicted_classes = np.array([class_labels[np.argmax(sample_predictions)] for sample_predictions in predictions])\n",
    "    return predicted_classes\n",
    "\n",
    "\n",
    "multi_train, multi_test = scaled_df[:8000], scaled_df[8000:]\n",
    "classifiers = train_svm(multi_train.drop('class',axis=1),multi_train['class'])\n",
    "train_predictions = predict_svm(multi_train.drop('class',axis=1),classifiers)\n",
    "test_predictions = predict_svm(multi_test.drop('class',axis=1),classifiers)\n",
    "\n",
    "print('Train f1:',f1_score(multi_train['class'].values, train_predictions, average='macro'))\n",
    "print('Test f1:',f1_score(multi_test['class'].values, test_predictions, average='macro'))"
   ]
  },
  {
   "cell_type": "markdown",
   "metadata": {},
   "source": [
    "The performance decreased, but it still very high. The test f1 is only minimally lower than the train f1, so also no signs of overfitting."
   ]
  },
  {
   "cell_type": "markdown",
   "metadata": {},
   "source": [
    "### Voting Ensemble Multi-Class SVM"
   ]
  },
  {
   "cell_type": "markdown",
   "metadata": {},
   "source": [
    "I wanted to see whether a voting ensemble would even increase the performance further, as that was also already included in the Trees notebook.\n",
    "(and voting is much easier to implement from scratch than other ensemble techniques)"
   ]
  },
  {
   "cell_type": "code",
   "execution_count": 8,
   "metadata": {},
   "outputs": [],
   "source": [
    "from collections import Counter\n",
    "\n",
    "def voting_ensemble_train_svm(X, y, n_estimators=3, learning_rate=0.001, n_iterations=1000):\n",
    "    ensemble_models = []\n",
    "    n_samples = X.shape[0]\n",
    "\n",
    "    chunk_size = n_samples // n_estimators\n",
    "    start_index = 0\n",
    "\n",
    "    for i in range(n_estimators):\n",
    "        end_index = start_index + chunk_size\n",
    "        X_subset = X.iloc[start_index:end_index]\n",
    "        y_subset = y.iloc[start_index:end_index]\n",
    "\n",
    "        print('Training ensemble',i)\n",
    "        ovr_classifier = train_svm(X_subset, y_subset, learning_rate, n_iterations)\n",
    "        ensemble_models.append(ovr_classifier)\n",
    "        start_index = end_index\n",
    "\n",
    "    return ensemble_models\n",
    "\n",
    "def voting_ensemble_predict_svm(X, ensemble_models):\n",
    "    num_samples = X.shape[0]\n",
    "    predicted_classes = []\n",
    "    all_predictions = []\n",
    "\n",
    "    for model in ensemble_models:\n",
    "        predictions = predict_svm(X, model) \n",
    "        all_predictions.append(predictions)\n",
    "\n",
    "    #count class with most votes. in case of tie first class in the predictions is taken.\n",
    "    for i in range(num_samples):\n",
    "        votes = [preds[i] for preds in all_predictions]\n",
    "        predicted_class = Counter(votes).most_common()[0][0]\n",
    "        predicted_classes.append(predicted_class)\n",
    "\n",
    "    return np.array(predicted_classes)"
   ]
  },
  {
   "cell_type": "code",
   "execution_count": 9,
   "metadata": {},
   "outputs": [
    {
     "name": "stdout",
     "output_type": "stream",
     "text": [
      "Training ensemble 0\n",
      "training GALAXY vs. others...\n",
      "training QSO vs. others...\n",
      "training STAR vs. others...\n",
      "Training ensemble 1\n",
      "training GALAXY vs. others...\n",
      "training STAR vs. others...\n",
      "training QSO vs. others...\n",
      "Training ensemble 2\n",
      "training QSO vs. others...\n",
      "training STAR vs. others...\n",
      "training GALAXY vs. others...\n",
      "Voting Ensemble OVR SVM Results:\n",
      "Train F1 Score (macro): 0.9232385699256386\n",
      "Test F1 Score (macro): 0.9025906269184637\n"
     ]
    }
   ],
   "source": [
    "\n",
    "multi_train, multi_test = scaled_df[:8000], scaled_df[8000:]\n",
    "X_train_multi = multi_train.drop('class', axis=1)\n",
    "y_train_multi = multi_train['class']\n",
    "X_test_multi = multi_test.drop('class', axis=1)\n",
    "y_test_multi = multi_test['class']\n",
    "\n",
    "n_estimators = 3\n",
    "ensemble_models = voting_ensemble_train_svm(X_train_multi.copy(), y_train_multi.copy(), n_estimators=n_estimators, learning_rate=0.1, n_iterations=1000)\n",
    "ensemble_train_predictions = voting_ensemble_predict_svm(X_train_multi, ensemble_models)\n",
    "ensemble_test_predictions = voting_ensemble_predict_svm(X_test_multi, ensemble_models)\n",
    "\n",
    "print(\"Voting Ensemble OVR SVM Results:\")\n",
    "print(\"Train F1 Score (macro):\", f1_score(y_train_multi.values, ensemble_train_predictions, average='macro'))\n",
    "print(\"Test F1 Score (macro):\", f1_score(y_test_multi.values, ensemble_test_predictions, average='macro'))\n"
   ]
  },
  {
   "cell_type": "markdown",
   "metadata": {},
   "source": [
    "There is a slight increase in performance.\n",
    "Given that only a linear kernel is used, the performance is great.\n",
    "The remaining misclassifications could probably be fixed by access to more variables and a non-linear kernel."
   ]
  },
  {
   "cell_type": "code",
   "execution_count": 10,
   "metadata": {},
   "outputs": [
    {
     "data": {
      "image/png": "[encoded data removed]",
      "text/plain": [
       "<Figure size 640x480 with 2 Axes>"
      ]
     },
     "metadata": {},
     "output_type": "display_data"
    }
   ],
   "source": [
    "from sklearn.metrics import confusion_matrix, ConfusionMatrixDisplay\n",
    "import matplotlib.pyplot as plt\n",
    "\n",
    "cm = confusion_matrix(y_test_multi, ensemble_test_predictions)\n",
    "disp = ConfusionMatrixDisplay(confusion_matrix=cm, display_labels=['galaxy','quasar','star']) #checked label order with value counts\n",
    "disp.plot(cmap=plt.cm.Greens)\n",
    "plt.title('Confusion Matrix')\n",
    "plt.show()"
   ]
  },
  {
   "cell_type": "markdown",
   "metadata": {},
   "source": [
    "All classes get identified quite accuractely. There are some confusions between galaxies and quasars and a few between stars and galaxies.\n",
    "Interestingly, there are no confusions between quasars and stars.\n",
    "Stars have more narrow, specific light spectra, unlike quasars that have very broad spectra and are much more luminous. That explains the clear decision boundary between these two classes."
   ]
  }
 ],
 "metadata": {
  "kernelspec": {
   "display_name": "Python 3",
   "language": "python",
   "name": "python3"
  },
  "language_info": {
   "codemirror_mode": {
    "name": "ipython",
    "version": 3
   },
   "file_extension": ".py",
   "mimetype": "text/x-python",
   "name": "python",
   "nbconvert_exporter": "python",
   "pygments_lexer": "ipython3",
   "version": "3.12.6"
  }
 },
 "nbformat": 4,
 "nbformat_minor": 2
}
